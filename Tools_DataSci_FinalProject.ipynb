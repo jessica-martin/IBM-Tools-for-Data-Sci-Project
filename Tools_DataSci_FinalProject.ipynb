{
  "metadata": {
    "language_info": {
      "codemirror_mode": {
        "name": "python",
        "version": 3
      },
      "file_extension": ".py",
      "mimetype": "text/x-python",
      "name": "python",
      "nbconvert_exporter": "python",
      "pygments_lexer": "ipython3",
      "version": "3.8"
    },
    "kernelspec": {
      "name": "python",
      "display_name": "Pyolite",
      "language": "python"
    }
  },
  "nbformat_minor": 4,
  "nbformat": 4,
  "cells": [
    {
      "cell_type": "markdown",
      "source": "\n# My Jupyter Notebook on IBM Watson Studio\n",
      "metadata": {
        "tags": []
      }
    },
    {
      "cell_type": "markdown",
      "source": "**Jessica Martin**  \nDesired occupation: Data science in biomedical research.",
      "metadata": {}
    },
    {
      "cell_type": "markdown",
      "source": "*I am interested in a career change to data science because it will allow me to exercise my analytical / scientific muscles after being away from working in a research lab, which I've missed these past 10 years or so. I hope I can work on challenging problems with a great group of people without having to pick up and move my whole family.*",
      "metadata": {}
    },
    {
      "cell_type": "markdown",
      "source": "### Executing the following code will print the answer to \"1 + 1\"",
      "metadata": {}
    },
    {
      "cell_type": "code",
      "source": "1 + 1",
      "metadata": {
        "trusted": true
      },
      "execution_count": 2,
      "outputs": [
        {
          "execution_count": 2,
          "output_type": "execute_result",
          "data": {
            "text/plain": "2"
          },
          "metadata": {}
        }
      ]
    },
    {
      "cell_type": "markdown",
      "source": "### Syntax rule 1: create a numbered list  \n1. Item 1\n2. Item 2\n3. Item 3\n\n### Syntax rule 2: strikethrough  \nI will try a ~~strikethrough~~ next.\n\n### Syntax rule 3: attach an image  \nHere is a pup in a cup (aww!). \n![Photo by Pixabay from Pexels](https://images.pexels.com/photos/39317/chihuahua-dog-puppy-cute-39317.jpeg?cs=srgb&dl=pexels-pixabay-39317.jpg&fm=jpg)",
      "metadata": {}
    },
    {
      "cell_type": "code",
      "source": "",
      "metadata": {},
      "execution_count": null,
      "outputs": []
    }
  ]
}